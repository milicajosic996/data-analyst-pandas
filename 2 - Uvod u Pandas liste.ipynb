{
 "cells": [
  {
   "cell_type": "markdown",
   "id": "a32011e6-6c01-4515-8b67-ebeebc7c7f96",
   "metadata": {},
   "source": [
    "# Pandas Liste"
   ]
  },
  {
   "cell_type": "code",
   "execution_count": null,
   "id": "8db75169-5c3d-41e8-bcb3-c11f510ca960",
   "metadata": {},
   "outputs": [],
   "source": [
    "import pandas as pd"
   ]
  },
  {
   "cell_type": "markdown",
   "id": "ec5773c4-561e-41ee-965f-e0c16b4f7cb6",
   "metadata": {},
   "source": [
    "- Pandas lista je jednodimenzionalna lista\n",
    "- Ona je zapravo kombinacija python liste i rečnika (uzima najbolje od oba)\n",
    "- Python lista zadrzava svoj redosled "
   ]
  },
  {
   "cell_type": "markdown",
   "id": "7dfcbba2-0961-44e2-98eb-ce0ec4e6edb8",
   "metadata": {},
   "source": [
    "## Kreiranje Pandas liste od python liste"
   ]
  },
  {
   "cell_type": "code",
   "execution_count": null,
   "id": "1549d436-c508-4b80-a612-a9c0ef676496",
   "metadata": {},
   "outputs": [],
   "source": [
    "predmeti = [\"Matematika\", \"Srpski\", \"Muzicko\", \"Informatika\"]\n",
    "pd.Series(predmeti)"
   ]
  },
  {
   "cell_type": "code",
   "execution_count": null,
   "id": "ea357053-dc15-4f66-ad6a-1f4dd9ecaf55",
   "metadata": {},
   "outputs": [],
   "source": [
    "fibonaci = [1, 1, 2, 3, 5, 8, 13]\n",
    "pd.Series(fibonaci)"
   ]
  },
  {
   "cell_type": "code",
   "execution_count": null,
   "id": "93e6d54f-70dc-4841-b13a-5c11076b6516",
   "metadata": {},
   "outputs": [],
   "source": [
    "prijavljen_ispit = [True, False, False, False, True]\n",
    "pd.Series(prijavljen_ispit)"
   ]
  },
  {
   "cell_type": "markdown",
   "id": "9b16ab75-6389-4042-b8e3-c0dff6940e73",
   "metadata": {},
   "source": [
    "## Kreiranje Pandas liste od recnika"
   ]
  },
  {
   "cell_type": "code",
   "execution_count": null,
   "id": "ad26ca1b-d17a-4c01-a0d6-b925fe741745",
   "metadata": {},
   "outputs": [],
   "source": [
    "glavni_gradovi = {'Srbija':'Beograd','Madjarska':'Budimpesta',\n",
    "                  'Francuska':'Pariz', 'Austrija':'Bec'}\n",
    "pd.Series(glavni_gradovi)"
   ]
  },
  {
   "cell_type": "markdown",
   "id": "cb0fc4c6-bdfc-45b2-86a5-8443bbb02220",
   "metadata": {},
   "source": [
    "## Parametri i argumenti"
   ]
  },
  {
   "cell_type": "markdown",
   "id": "bae4b413-71d7-499d-ba3d-4e803a6c7f1f",
   "metadata": {},
   "source": [
    "- **Parametar** je ime za očekivani unos instanciranja funkcije/metoda/klase.\n",
    "- **Argument** je konkretna vrednost koju dajemo za parametar tokom poziva.\n",
    "- Argumente možemo prosleđivati bilo sekvencijalno (zasnovano na redosledu parametara) ili sa ispisanim eksplicitnim imenima parametara.\n",
    "– Prva dva parametra za konstruktor **Pandas liste** su `data` i `index`, koji predstavljaju vrednosti liste i oznake indeksa."
   ]
  },
  {
   "cell_type": "code",
   "execution_count": null,
   "id": "58e4cb36-d236-471b-abe3-8e1fdf91926b",
   "metadata": {},
   "outputs": [],
   "source": [
    "gradovi = [\"Zagreb\", \"Helsinki\", \"Rim\", \"Madrid\", \"Moskva\"]\n",
    "drzave = [\"Hrvatska\", \"Finska\", \"Italija\", \"Spanija\", \"Rusija\"]"
   ]
  },
  {
   "cell_type": "code",
   "execution_count": null,
   "id": "55dda3a4-138d-4a2a-b4d8-30c93105c6d6",
   "metadata": {},
   "outputs": [],
   "source": [
    "pd.Series(gradovi)\n",
    "pd.Series(drzave)\n",
    "pd.Series(gradovi, drzave)\n",
    "pd.Series(drzave, gradovi)"
   ]
  },
  {
   "cell_type": "code",
   "execution_count": null,
   "id": "13f2b73d-f589-45fd-95fa-47eed2835509",
   "metadata": {
    "scrolled": true
   },
   "outputs": [],
   "source": [
    "pd.Series(data=gradovi, index=drzave)\n",
    "pd.Series(index=drzave, data=gradovi)"
   ]
  },
  {
   "cell_type": "markdown",
   "id": "bae1032f-a3a6-429b-bacd-305dedcecae7",
   "metadata": {},
   "source": [
    "## Atributi pandas listi"
   ]
  },
  {
   "cell_type": "code",
   "execution_count": null,
   "id": "cc28782c-ccef-4cc3-b354-ee765a19bf9a",
   "metadata": {},
   "outputs": [],
   "source": [
    "imena = pd.Series(['Dunja', 'Elena', 'Vukan', 'Marina', 'Teodor', 'Elena'])\n",
    "imena"
   ]
  },
  {
   "cell_type": "code",
   "execution_count": null,
   "id": "b78fe212-c480-4273-9f1a-e79619d5280e",
   "metadata": {},
   "outputs": [],
   "source": [
    "imena.size"
   ]
  },
  {
   "cell_type": "code",
   "execution_count": null,
   "id": "af690538-7374-46f7-abe7-424746c6128e",
   "metadata": {},
   "outputs": [],
   "source": [
    "imena.shape"
   ]
  },
  {
   "cell_type": "code",
   "execution_count": null,
   "id": "79e0f46e-1d3f-4610-9554-a25c1b9ff716",
   "metadata": {},
   "outputs": [],
   "source": [
    "imena.is_unique"
   ]
  },
  {
   "cell_type": "code",
   "execution_count": null,
   "id": "25787923-e54a-4789-b11b-9445c1cbd33f",
   "metadata": {},
   "outputs": [],
   "source": [
    "imena.values"
   ]
  },
  {
   "cell_type": "code",
   "execution_count": null,
   "id": "ea315e63-2df6-4847-b233-c5efed468715",
   "metadata": {},
   "outputs": [],
   "source": [
    "imena.index"
   ]
  },
  {
   "cell_type": "code",
   "execution_count": null,
   "id": "16d7ea82-481d-41d1-a875-c2c1d6377a54",
   "metadata": {},
   "outputs": [],
   "source": [
    "glavni_gradovi = {'Srbija':'Beograd','Madjarska':'Budimpesta',\n",
    "                  'Francuska':'Pariz', 'Austrija':'Bec'}\n",
    "pd.Series(glavni_gradovi).index"
   ]
  },
  {
   "cell_type": "markdown",
   "id": "59f6bd86-f8d4-4d61-903f-f2e1e5c69255",
   "metadata": {},
   "source": [
    "## Metode pandas listi"
   ]
  },
  {
   "cell_type": "code",
   "execution_count": null,
   "id": "f5a3cbf9-bc4e-4159-911b-f658386a9673",
   "metadata": {},
   "outputs": [],
   "source": [
    "brojevi = pd.Series([2, 7, 100, 0.2])\n",
    "brojevi"
   ]
  },
  {
   "cell_type": "code",
   "execution_count": null,
   "id": "0e4ebaf9-6578-425e-85ed-dd591834c631",
   "metadata": {},
   "outputs": [],
   "source": [
    "brojevi.sum()"
   ]
  },
  {
   "cell_type": "code",
   "execution_count": null,
   "id": "00f1afbe-94ff-4d67-bc1f-b2a613752b8f",
   "metadata": {},
   "outputs": [],
   "source": [
    "brojevi.product()"
   ]
  },
  {
   "cell_type": "code",
   "execution_count": null,
   "id": "1be68d36-bab1-4992-85ff-c348271e38ce",
   "metadata": {},
   "outputs": [],
   "source": [
    "brojevi.mean()"
   ]
  },
  {
   "cell_type": "code",
   "execution_count": null,
   "id": "c1787f28-a1e7-4149-ad39-3e5f799d91c0",
   "metadata": {},
   "outputs": [],
   "source": [
    "brojevi.std()"
   ]
  },
  {
   "cell_type": "code",
   "execution_count": null,
   "id": "086cb8de-a506-4fc4-9348-e9aa01a3b041",
   "metadata": {},
   "outputs": [],
   "source": [
    "brojevi.min()"
   ]
  },
  {
   "cell_type": "code",
   "execution_count": null,
   "id": "e9a1698f-3514-44ce-a9c1-620d172c74a5",
   "metadata": {},
   "outputs": [],
   "source": [
    "brojevi.max()"
   ]
  },
  {
   "cell_type": "code",
   "execution_count": null,
   "id": "cf824edf-c27e-4f23-b63b-7582fa2969b3",
   "metadata": {},
   "outputs": [],
   "source": [
    "imena = pd.Series(['Dunja', 'Elena', 'Vukan', 'Marina', 'Teodor', 'Elena'])\n",
    "imena.min()"
   ]
  },
  {
   "cell_type": "code",
   "execution_count": null,
   "id": "03942d9f-ddbf-48a1-9ead-c918d3f3e2e9",
   "metadata": {},
   "outputs": [],
   "source": [
    "imena.max()"
   ]
  },
  {
   "cell_type": "markdown",
   "id": "413f2126-f0ad-42ba-8ca2-94517de07f91",
   "metadata": {},
   "source": [
    "## Prikaz pandas liste"
   ]
  },
  {
   "cell_type": "code",
   "execution_count": null,
   "id": "73f95f08-2d1a-449f-8ef9-85492ae009ac",
   "metadata": {},
   "outputs": [],
   "source": [
    "n=20\n",
    "fibonaci = [1, 1]\n",
    "while len(fibonaci) <= n:\n",
    "    novi_clan = fibonaci[len(fibonaci) - 1] + fibonaci[len(fibonaci) - 2]\n",
    "    fibonaci.append(novi_clan)\n",
    "fibonaci_pandas = pd.Series(fibonaci)"
   ]
  },
  {
   "cell_type": "code",
   "execution_count": null,
   "id": "9ae95dab-35ed-4021-bbed-a2e42ceba2b4",
   "metadata": {},
   "outputs": [],
   "source": [
    "fibonaci_pandas.head()\n",
    "fibonaci_pandas.head(5)\n",
    "fibonaci_pandas.head(n=5)\n",
    "\n",
    "fibonaci_pandas.head(8)\n",
    "fibonaci_pandas.head(-10)"
   ]
  },
  {
   "cell_type": "code",
   "execution_count": null,
   "id": "1e513258-0290-415b-888d-288a7a13430d",
   "metadata": {},
   "outputs": [],
   "source": [
    "fibonaci_pandas.tail()\n",
    "fibonaci_pandas.tail(5)\n",
    "fibonaci_pandas.tail(n=5)\n",
    "\n",
    "fibonaci_pandas.tail(8)\n",
    "fibonaci_pandas.tail(-10)"
   ]
  },
  {
   "cell_type": "markdown",
   "id": "1477a323-2386-4b0c-bc75-9e3f49ec72cb",
   "metadata": {},
   "source": [
    "## Ucitavanje pandas liste iz csv fajla"
   ]
  },
  {
   "cell_type": "code",
   "execution_count": null,
   "id": "be624db5-a9bc-4602-a626-6aafee86d81f",
   "metadata": {},
   "outputs": [],
   "source": [
    "names_and_count = pd.read_csv(\"babyNames.csv\", usecols=[\"Number\",\"Name\"],index_col = 'Name').squeeze(\"columns\")\n",
    "names_and_count"
   ]
  },
  {
   "cell_type": "code",
   "execution_count": null,
   "id": "1855f349-8235-4a7c-86d6-6de9f76a7bb4",
   "metadata": {},
   "outputs": [],
   "source": [
    "names_and_count.head(10)"
   ]
  },
  {
   "cell_type": "markdown",
   "id": "5ae13637-2124-4778-a83e-43b5b3ef9366",
   "metadata": {},
   "source": [
    "## Ostale funkcije pandas listi"
   ]
  },
  {
   "cell_type": "markdown",
   "id": "22e61815-6a7d-4fa4-a061-850fdaf08f00",
   "metadata": {},
   "source": [
    "### in, loc, iloc"
   ]
  },
  {
   "cell_type": "code",
   "execution_count": null,
   "id": "717a1d06-c774-420c-87db-724451f0b01c",
   "metadata": {},
   "outputs": [],
   "source": [
    "'Ivana' in names_and_count"
   ]
  },
  {
   "cell_type": "code",
   "execution_count": null,
   "id": "297dd7ac-87a8-40fa-82d8-1247d18d6784",
   "metadata": {},
   "outputs": [],
   "source": [
    "-1 in fibonaci_pandas"
   ]
  },
  {
   "cell_type": "code",
   "execution_count": null,
   "id": "65a7fb03-cedb-4bef-8c0c-65b3b0af64c5",
   "metadata": {},
   "outputs": [],
   "source": [
    "100 in names_and_count.values"
   ]
  },
  {
   "cell_type": "code",
   "execution_count": null,
   "id": "7bbdbc81-ee0b-4bb3-a93d-36284b3791b0",
   "metadata": {},
   "outputs": [],
   "source": [
    "9 in fibonaci_pandas.values"
   ]
  },
  {
   "cell_type": "code",
   "execution_count": null,
   "id": "bd961cbf-b2b2-4ea6-8ce2-a5031354e1de",
   "metadata": {},
   "outputs": [],
   "source": [
    "fibonaci_pandas.iloc[5]"
   ]
  },
  {
   "cell_type": "code",
   "execution_count": null,
   "id": "357891f7-abaf-442a-a6e3-ab3824b70a51",
   "metadata": {},
   "outputs": [],
   "source": [
    "names_and_count.iloc[5]"
   ]
  },
  {
   "cell_type": "code",
   "execution_count": null,
   "id": "cb41b118-8998-40a8-b28f-a6767a37c608",
   "metadata": {},
   "outputs": [],
   "source": [
    "names_and_count.loc['Ivana']"
   ]
  },
  {
   "cell_type": "code",
   "execution_count": null,
   "id": "dc9176fd-a8b1-40a3-a941-d7f907c1a6c8",
   "metadata": {},
   "outputs": [],
   "source": [
    "names_and_count.loc[['Ivana','Marko']]"
   ]
  },
  {
   "cell_type": "code",
   "execution_count": null,
   "id": "430a3c3d-b1e2-4709-890e-7802d6b370c5",
   "metadata": {},
   "outputs": [],
   "source": [
    "names_and_count.get('Ivana')\n",
    "names_and_count.get(['Ivana','Marko'])\n",
    "names_and_count.get('Milica',50)"
   ]
  },
  {
   "cell_type": "markdown",
   "id": "ab80485d-0897-4ebf-a28e-ff79923ae2b3",
   "metadata": {
    "jupyter": {
     "source_hidden": true
    }
   },
   "source": [
    "### Ugradjene python funkcije: len, type, list, sorted, min, max"
   ]
  },
  {
   "cell_type": "code",
   "execution_count": null,
   "id": "da5d947b-672a-4df5-95c8-a89d01b3023f",
   "metadata": {},
   "outputs": [],
   "source": [
    "len(names_and_count)"
   ]
  },
  {
   "cell_type": "code",
   "execution_count": null,
   "id": "31655c48-a2ec-41bd-9c3c-280ace093f85",
   "metadata": {},
   "outputs": [],
   "source": [
    "type(names_and_count)"
   ]
  },
  {
   "cell_type": "code",
   "execution_count": null,
   "id": "f318e40d-72ef-45fa-89d7-43b2bdf9475a",
   "metadata": {},
   "outputs": [],
   "source": [
    "list(names_and_count.index)"
   ]
  },
  {
   "cell_type": "code",
   "execution_count": null,
   "id": "d3f7e619-6967-4915-aca3-e971a416b543",
   "metadata": {},
   "outputs": [],
   "source": [
    "sorted(names_and_count.index)"
   ]
  },
  {
   "cell_type": "code",
   "execution_count": null,
   "id": "f422cc14-0fa3-4239-9e33-6cf4bf5970e6",
   "metadata": {},
   "outputs": [],
   "source": [
    "min(names_and_count)"
   ]
  },
  {
   "cell_type": "code",
   "execution_count": null,
   "id": "d3881cc2-1ad3-4ed1-ac70-bce0fd59e8f4",
   "metadata": {},
   "outputs": [],
   "source": [
    "min(names_and_count.index)"
   ]
  },
  {
   "cell_type": "markdown",
   "id": "fdfb734b-4b54-4fdc-8ebd-13d2ff99f32a",
   "metadata": {},
   "source": [
    "## Sortiranje listi"
   ]
  },
  {
   "cell_type": "code",
   "execution_count": null,
   "id": "9e8383b8-7191-4afa-b065-2ecd2742ab5c",
   "metadata": {},
   "outputs": [],
   "source": [
    "names_and_count.sort_values(ascending=True).head(10)"
   ]
  },
  {
   "cell_type": "code",
   "execution_count": null,
   "id": "24e35b0a-3ffd-41fe-abbc-8182e3fb9f4f",
   "metadata": {},
   "outputs": [],
   "source": [
    "names_and_count.sort_index(ascending=True).head(10)"
   ]
  },
  {
   "cell_type": "markdown",
   "id": "71a77572-0164-40b7-9cf4-d2501ad57268",
   "metadata": {},
   "source": [
    "## Promene vrednosti pandas listi"
   ]
  },
  {
   "cell_type": "code",
   "execution_count": null,
   "id": "426edecd-8d58-420e-9294-0e50afcf6f4f",
   "metadata": {},
   "outputs": [],
   "source": [
    "zoo = pd.Series(['Slon', 'Zirafa', 'Zebra', 'Komarac', 'Kamila'])\n",
    "zoo.head()"
   ]
  },
  {
   "cell_type": "code",
   "execution_count": null,
   "id": "c96cdfc3-ee4d-4757-b33f-f73e737d2c86",
   "metadata": {},
   "outputs": [],
   "source": [
    "zoo.iloc[3]='Vuk'"
   ]
  },
  {
   "cell_type": "code",
   "execution_count": null,
   "id": "7cf42b57-173c-46bd-82a1-55234afd11c2",
   "metadata": {},
   "outputs": [],
   "source": [
    "zoo.head()"
   ]
  },
  {
   "cell_type": "code",
   "execution_count": null,
   "id": "d2c546e3-aeea-485c-bbda-328c992f7708",
   "metadata": {},
   "outputs": [],
   "source": [
    "names_and_count.head()"
   ]
  },
  {
   "cell_type": "code",
   "execution_count": null,
   "id": "b39fb4e1-57fd-40b6-a699-572a0b1c1693",
   "metadata": {},
   "outputs": [],
   "source": [
    "names_and_count.loc['Emma'] = 5555\n",
    "names_and_count.head()"
   ]
  },
  {
   "cell_type": "markdown",
   "id": "48a0e5f5-1344-4d07-bd36-b242df325816",
   "metadata": {},
   "source": [
    "## Kopiranje pandas liste"
   ]
  },
  {
   "cell_type": "code",
   "execution_count": null,
   "id": "9ab30331-585e-4715-b0ee-e0493c094c90",
   "metadata": {},
   "outputs": [],
   "source": [
    "zoo.head()"
   ]
  },
  {
   "cell_type": "code",
   "execution_count": null,
   "id": "36097d18-3040-472f-8cdd-058aacf2edc9",
   "metadata": {},
   "outputs": [],
   "source": [
    "copy_of_zoo = zoo.copy()"
   ]
  },
  {
   "cell_type": "code",
   "execution_count": null,
   "id": "25938c38-40be-4d9b-ab76-40c67f846ac2",
   "metadata": {},
   "outputs": [],
   "source": [
    "zoo.iloc[4] = 'Lisica'"
   ]
  },
  {
   "cell_type": "code",
   "execution_count": null,
   "id": "911e9d2d-03a9-444b-b763-43304e34febe",
   "metadata": {},
   "outputs": [],
   "source": [
    "zoo.head()"
   ]
  },
  {
   "cell_type": "code",
   "execution_count": null,
   "id": "5a8f1052-a39d-4d6c-9725-fab4c892b344",
   "metadata": {},
   "outputs": [],
   "source": [
    "copy_of_zoo.head()"
   ]
  },
  {
   "cell_type": "markdown",
   "id": "deab204e-28f6-4f01-ac93-aa50ab77ff55",
   "metadata": {},
   "source": [
    "## Dodavanje novih vrednosti"
   ]
  },
  {
   "cell_type": "code",
   "execution_count": null,
   "id": "dddc562f-7289-485d-8e7f-c690bb904590",
   "metadata": {},
   "outputs": [],
   "source": [
    "zoo = pd.Series(['Slon', 'Zirafa', 'Zebra', 'Komarac', 'Kamila'])\n",
    "zoo.head()"
   ]
  },
  {
   "cell_type": "code",
   "execution_count": null,
   "id": "a5ce4607-b65a-4051-9af3-f0adcf1f6ad5",
   "metadata": {},
   "outputs": [],
   "source": [
    "glavni_gradovi = pd.Series({'Srbija':'Beograd','Madjarska':'Budimpesta',\n",
    "                  'Francuska':'Pariz', 'Austrija':'Bec'})"
   ]
  },
  {
   "cell_type": "code",
   "execution_count": null,
   "id": "59976887-eca8-40fa-b4c8-737c7541121b",
   "metadata": {},
   "outputs": [],
   "source": [
    "zoo[5] = 'Paun'\n",
    "zoo"
   ]
  },
  {
   "cell_type": "code",
   "execution_count": null,
   "id": "fecbf8c9-423e-430d-8b3f-9c0d01e51d5c",
   "metadata": {},
   "outputs": [],
   "source": [
    "glavni_gradovi.loc['Finska'] = 'Helsinki'\n",
    "glavni_gradovi"
   ]
  },
  {
   "cell_type": "code",
   "execution_count": null,
   "id": "bf4663f5-7b0b-416c-9819-8e3de997f940",
   "metadata": {},
   "outputs": [],
   "source": [
    "zoo.loc[zoo.index.max()+1] = 'Koala'\n",
    "zoo"
   ]
  },
  {
   "cell_type": "markdown",
   "id": "3b6e87b2-704c-4ed7-bb38-d739f7873788",
   "metadata": {},
   "source": [
    "## Map i apply funkcije"
   ]
  },
  {
   "cell_type": "code",
   "execution_count": null,
   "id": "160a8f68-f251-46f2-a4ce-4d334f8af48c",
   "metadata": {},
   "outputs": [],
   "source": [
    "mapping_gradovi_drzave = pd.Series({'Beograd':'Srbija','Budimpesta':'Madjarska',\n",
    "                  'Pariz':'Francuska', 'Bec':'Austrija', 'Novi Sad': 'Srbija'})\n",
    "\n",
    "studenti = pd.Series({'Milica':'Novi Sad','Jovana':'Bec',\n",
    "                  'Ljiljana':'Beograd', 'Teodora':'Bukurest', 'Ivan': 'Beograd'})\n"
   ]
  },
  {
   "cell_type": "code",
   "execution_count": null,
   "id": "ae130a16-a71c-45bd-887b-5f30a202a79e",
   "metadata": {},
   "outputs": [],
   "source": [
    "studenti"
   ]
  },
  {
   "cell_type": "code",
   "execution_count": null,
   "id": "52de61e4-ee4d-4f91-b82e-ac04af75d88f",
   "metadata": {},
   "outputs": [],
   "source": [
    "mapping_gradovi_drzave"
   ]
  },
  {
   "cell_type": "code",
   "execution_count": null,
   "id": "75d873fa-8389-49bf-931b-29cae904437a",
   "metadata": {},
   "outputs": [],
   "source": [
    "studenti.map(mapping_gradovi_drzave)"
   ]
  },
  {
   "cell_type": "code",
   "execution_count": null,
   "id": "3751c8bc-bf0b-4135-aed6-4faecfa56f35",
   "metadata": {},
   "outputs": [],
   "source": [
    "zoo = pd.Series(['Slon', 'Zirafa', 'Zebra', 'Komarac', 'Kamila','Koala','Gorila','Tigar','Lav','Medved'])\n",
    "zoo.head(10)"
   ]
  },
  {
   "cell_type": "code",
   "execution_count": null,
   "id": "95321264-33fc-4ddc-b09d-37e0eb1819b5",
   "metadata": {},
   "outputs": [],
   "source": [
    "zoo.apply(len)"
   ]
  },
  {
   "cell_type": "code",
   "execution_count": null,
   "id": "8c41c065-927f-4d3a-aaf3-f6b4ca0da10f",
   "metadata": {},
   "outputs": [],
   "source": [
    "def count_slova_a(slog):\n",
    "    return slog.count('a')"
   ]
  },
  {
   "cell_type": "code",
   "execution_count": null,
   "id": "3d8e25d0-93ac-4c3e-a5cb-678805a2e1ff",
   "metadata": {},
   "outputs": [],
   "source": [
    "zoo.apply(count_zadatog_slova)"
   ]
  },
  {
   "cell_type": "code",
   "execution_count": null,
   "id": "5ea8ab72-6f14-4af5-a5be-62822c763d48",
   "metadata": {},
   "outputs": [],
   "source": [
    "def count_zadatog_slova(slog, slovo):\n",
    "    return slog.count(slovo)\n"
   ]
  },
  {
   "cell_type": "code",
   "execution_count": null,
   "id": "a3604c41-a2cc-426e-8293-e27499b81fac",
   "metadata": {},
   "outputs": [],
   "source": [
    "zoo.apply(count_zadatog_slova, args=('l',))"
   ]
  },
  {
   "cell_type": "code",
   "execution_count": null,
   "id": "740be2ad-a11b-48a9-a483-e7a4ae900d80",
   "metadata": {},
   "outputs": [],
   "source": []
  }
 ],
 "metadata": {
  "kernelspec": {
   "display_name": "Python 3 (ipykernel)",
   "language": "python",
   "name": "python3"
  },
  "language_info": {
   "codemirror_mode": {
    "name": "ipython",
    "version": 3
   },
   "file_extension": ".py",
   "mimetype": "text/x-python",
   "name": "python",
   "nbconvert_exporter": "python",
   "pygments_lexer": "ipython3",
   "version": "3.12.4"
  }
 },
 "nbformat": 4,
 "nbformat_minor": 5
}
