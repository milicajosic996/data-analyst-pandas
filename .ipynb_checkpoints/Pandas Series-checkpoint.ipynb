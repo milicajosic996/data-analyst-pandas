{
 "cells": [
  {
   "cell_type": "markdown",
   "id": "af0155fc-7738-4ceb-b35f-5978484af7b1",
   "metadata": {},
   "source": [
    "# Pandas nizovi"
   ]
  },
  {
   "cell_type": "code",
   "execution_count": 16,
   "id": "0eccd0b6-2c0d-4058-826d-302d65b7dc8c",
   "metadata": {},
   "outputs": [],
   "source": [
    "import pandas as pd"
   ]
  },
  {
   "cell_type": "markdown",
   "id": "53a1d605-7db2-4f6f-86fd-82de4083f874",
   "metadata": {},
   "source": [
    "## Kreiranje pandas niza iz python liste"
   ]
  },
  {
   "cell_type": "code",
   "execution_count": 2,
   "id": "38c1bd79-4a14-4e7d-b41a-135bd26c7a2c",
   "metadata": {},
   "outputs": [],
   "source": [
    "predmeti = ['Matematika','Srpski','Muzicko']"
   ]
  },
  {
   "cell_type": "code",
   "execution_count": 3,
   "id": "db28ebb5-9d44-43bd-8880-06f0be70dba7",
   "metadata": {},
   "outputs": [
    {
     "data": {
      "text/plain": [
       "0    Matematika\n",
       "1        Srpski\n",
       "2       Muzicko\n",
       "dtype: object"
      ]
     },
     "execution_count": 3,
     "metadata": {},
     "output_type": "execute_result"
    }
   ],
   "source": [
    "pd.Series(predmeti)"
   ]
  },
  {
   "cell_type": "code",
   "execution_count": 4,
   "id": "8a3faaa4-0919-427d-a9fc-59543bb49219",
   "metadata": {},
   "outputs": [
    {
     "data": {
      "text/plain": [
       "0     1\n",
       "1     1\n",
       "2     2\n",
       "3     3\n",
       "4     5\n",
       "5     8\n",
       "6    13\n",
       "dtype: int64"
      ]
     },
     "execution_count": 4,
     "metadata": {},
     "output_type": "execute_result"
    }
   ],
   "source": [
    "fibonaci = [1,1,2,3,5,8,13]\n",
    "pd.Series(fibonaci)"
   ]
  },
  {
   "cell_type": "code",
   "execution_count": 5,
   "id": "813458ff-7e10-421c-9066-98ed24289d8e",
   "metadata": {},
   "outputs": [],
   "source": [
    "prijavljen_ispit = [True,False,False, True]"
   ]
  },
  {
   "cell_type": "code",
   "execution_count": 6,
   "id": "170a5fa7-97e6-41dc-b90d-4aecfcff51f8",
   "metadata": {},
   "outputs": [
    {
     "data": {
      "text/plain": [
       "0     True\n",
       "1    False\n",
       "2    False\n",
       "3     True\n",
       "dtype: bool"
      ]
     },
     "execution_count": 6,
     "metadata": {},
     "output_type": "execute_result"
    }
   ],
   "source": [
    "pd.Series(prijavljen_ispit)"
   ]
  },
  {
   "cell_type": "markdown",
   "id": "999cd2ad-12ee-4b71-858e-52ba48932d1a",
   "metadata": {},
   "source": [
    "## Kreiranje pandas niza iz python recnika"
   ]
  },
  {
   "cell_type": "code",
   "execution_count": 7,
   "id": "bcc7bfb2-c570-4212-ba2a-906819352fd1",
   "metadata": {},
   "outputs": [],
   "source": [
    "glavni_gradovi = {'Srbija':'Beograd','Madjarska':'Budimpesta','Austrija':'Bec'}"
   ]
  },
  {
   "cell_type": "code",
   "execution_count": 8,
   "id": "29d44104-f27a-4ee3-b2a9-111ca0a3d702",
   "metadata": {},
   "outputs": [
    {
     "data": {
      "text/plain": [
       "Srbija          Beograd\n",
       "Madjarska    Budimpesta\n",
       "Austrija            Bec\n",
       "dtype: object"
      ]
     },
     "execution_count": 8,
     "metadata": {},
     "output_type": "execute_result"
    }
   ],
   "source": [
    "pd.Series(glavni_gradovi)"
   ]
  },
  {
   "cell_type": "markdown",
   "id": "e60a749c-4713-4fdd-a69b-95d740588772",
   "metadata": {},
   "source": [
    "## Parametri i argumenti"
   ]
  },
  {
   "cell_type": "code",
   "execution_count": 10,
   "id": "1ccb4565-fc6d-4193-856a-ba743a00e236",
   "metadata": {},
   "outputs": [],
   "source": [
    "gradovi = ['Beograd','Budimpesta','Bec']\n",
    "drzave = ['Srbija','Madjarska','Austrija']"
   ]
  },
  {
   "cell_type": "code",
   "execution_count": 14,
   "id": "0448bdfe-8d6c-494b-9443-84228fe841ed",
   "metadata": {},
   "outputs": [
    {
     "data": {
      "text/plain": [
       "Srbija          Beograd\n",
       "Madjarska    Budimpesta\n",
       "Austrija            Bec\n",
       "dtype: object"
      ]
     },
     "execution_count": 14,
     "metadata": {},
     "output_type": "execute_result"
    }
   ],
   "source": [
    "pandas_niz = pd.Series(gradovi,drzave)\n",
    "pandas_niz"
   ]
  },
  {
   "cell_type": "code",
   "execution_count": 15,
   "id": "d79609af-8d42-43fd-94a1-5750e49c469d",
   "metadata": {},
   "outputs": [
    {
     "data": {
      "text/plain": [
       "Srbija          Beograd\n",
       "Madjarska    Budimpesta\n",
       "Austrija            Bec\n",
       "dtype: object"
      ]
     },
     "execution_count": 15,
     "metadata": {},
     "output_type": "execute_result"
    }
   ],
   "source": [
    "pd.Series(data = gradovi, index = drzave)"
   ]
  },
  {
   "cell_type": "markdown",
   "id": "5e71b49b-119b-4842-a7b9-3a198340338c",
   "metadata": {},
   "source": [
    "## Atributi pandas nizova"
   ]
  },
  {
   "cell_type": "code",
   "execution_count": 22,
   "id": "d02c873f-bc08-4907-9dc5-b8286e2bceaa",
   "metadata": {},
   "outputs": [
    {
     "data": {
      "text/plain": [
       "0     Dunja\n",
       "1     Elena\n",
       "2     Vukan\n",
       "3    Marina\n",
       "4     Elena\n",
       "dtype: object"
      ]
     },
     "execution_count": 22,
     "metadata": {},
     "output_type": "execute_result"
    }
   ],
   "source": [
    "imena = pd.Series(['Dunja','Elena','Vukan','Marina','Elena'])\n",
    "imena"
   ]
  },
  {
   "cell_type": "code",
   "execution_count": 18,
   "id": "ce032d8c-db76-444f-9a1e-22b0e52ebe17",
   "metadata": {},
   "outputs": [
    {
     "data": {
      "text/plain": [
       "4"
      ]
     },
     "execution_count": 18,
     "metadata": {},
     "output_type": "execute_result"
    }
   ],
   "source": [
    "imena.size"
   ]
  },
  {
   "cell_type": "code",
   "execution_count": 19,
   "id": "b1990eab-8020-49aa-8659-ed0d7290f9b6",
   "metadata": {},
   "outputs": [
    {
     "data": {
      "text/plain": [
       "(4,)"
      ]
     },
     "execution_count": 19,
     "metadata": {},
     "output_type": "execute_result"
    }
   ],
   "source": [
    "imena.shape"
   ]
  },
  {
   "cell_type": "code",
   "execution_count": 23,
   "id": "a1d6bd9c-4254-46e5-b58a-3480df5618e7",
   "metadata": {},
   "outputs": [
    {
     "data": {
      "text/plain": [
       "False"
      ]
     },
     "execution_count": 23,
     "metadata": {},
     "output_type": "execute_result"
    }
   ],
   "source": [
    "imena.is_unique"
   ]
  },
  {
   "cell_type": "code",
   "execution_count": 24,
   "id": "26e923b2-39fc-4090-abde-8de17502b490",
   "metadata": {},
   "outputs": [
    {
     "data": {
      "text/plain": [
       "RangeIndex(start=0, stop=5, step=1)"
      ]
     },
     "execution_count": 24,
     "metadata": {},
     "output_type": "execute_result"
    }
   ],
   "source": [
    "imena.index"
   ]
  },
  {
   "cell_type": "code",
   "execution_count": 25,
   "id": "48beb544-ad53-4ffa-9a9e-5fa3b8256260",
   "metadata": {},
   "outputs": [
    {
     "data": {
      "text/plain": [
       "Index(['Srbija', 'Madjarska', 'Austrija'], dtype='object')"
      ]
     },
     "execution_count": 25,
     "metadata": {},
     "output_type": "execute_result"
    }
   ],
   "source": [
    "pandas_niz.index"
   ]
  },
  {
   "cell_type": "code",
   "execution_count": 26,
   "id": "ab10d856-3cbe-490e-92dc-c426892cf616",
   "metadata": {},
   "outputs": [
    {
     "data": {
      "text/plain": [
       "array(['Dunja', 'Elena', 'Vukan', 'Marina', 'Elena'], dtype=object)"
      ]
     },
     "execution_count": 26,
     "metadata": {},
     "output_type": "execute_result"
    }
   ],
   "source": [
    "imena.values"
   ]
  },
  {
   "cell_type": "code",
   "execution_count": 27,
   "id": "289bf533-f722-4f20-86f5-4688a5601ea9",
   "metadata": {},
   "outputs": [
    {
     "data": {
      "text/plain": [
       "array(['Beograd', 'Budimpesta', 'Bec'], dtype=object)"
      ]
     },
     "execution_count": 27,
     "metadata": {},
     "output_type": "execute_result"
    }
   ],
   "source": [
    "pandas_niz.values"
   ]
  },
  {
   "cell_type": "markdown",
   "id": "0686a129-f2ea-4195-8b31-f28d2cf3d140",
   "metadata": {},
   "source": [
    "## Metode pandas nizova"
   ]
  },
  {
   "cell_type": "code",
   "execution_count": 28,
   "id": "ae62a445-063c-42ea-8f46-61e6b9c74bd5",
   "metadata": {},
   "outputs": [
    {
     "data": {
      "text/plain": [
       "0      2.0\n",
       "1      7.0\n",
       "2    100.0\n",
       "3      0.2\n",
       "dtype: float64"
      ]
     },
     "execution_count": 28,
     "metadata": {},
     "output_type": "execute_result"
    }
   ],
   "source": [
    "brojevi = pd.Series([2,7,100,0.2])\n",
    "brojevi"
   ]
  },
  {
   "cell_type": "code",
   "execution_count": 29,
   "id": "15fdbbef-1038-448d-b9af-37f829d69f29",
   "metadata": {},
   "outputs": [
    {
     "data": {
      "text/plain": [
       "np.float64(109.2)"
      ]
     },
     "execution_count": 29,
     "metadata": {},
     "output_type": "execute_result"
    }
   ],
   "source": [
    "brojevi.sum()"
   ]
  },
  {
   "cell_type": "code",
   "execution_count": 30,
   "id": "904af65c-3322-4695-855b-18cb2e252061",
   "metadata": {},
   "outputs": [
    {
     "data": {
      "text/plain": [
       "np.float64(27.3)"
      ]
     },
     "execution_count": 30,
     "metadata": {},
     "output_type": "execute_result"
    }
   ],
   "source": [
    "brojevi.mean()"
   ]
  },
  {
   "cell_type": "code",
   "execution_count": 31,
   "id": "d59e6d2b-4205-4c12-8faf-f54fa8b8d56f",
   "metadata": {},
   "outputs": [
    {
     "data": {
      "text/plain": [
       "np.float64(48.551965288063606)"
      ]
     },
     "execution_count": 31,
     "metadata": {},
     "output_type": "execute_result"
    }
   ],
   "source": [
    "brojevi.std()"
   ]
  },
  {
   "cell_type": "code",
   "execution_count": 32,
   "id": "6a10401b-8cfd-4070-a170-940b4063bef1",
   "metadata": {},
   "outputs": [
    {
     "data": {
      "text/plain": [
       "np.float64(280.0)"
      ]
     },
     "execution_count": 32,
     "metadata": {},
     "output_type": "execute_result"
    }
   ],
   "source": [
    "brojevi.product()"
   ]
  },
  {
   "cell_type": "code",
   "execution_count": 33,
   "id": "1f6934f9-9d26-4ef3-bc23-9ad1ef013741",
   "metadata": {},
   "outputs": [
    {
     "data": {
      "text/plain": [
       "np.float64(0.2)"
      ]
     },
     "execution_count": 33,
     "metadata": {},
     "output_type": "execute_result"
    }
   ],
   "source": [
    "brojevi.min()"
   ]
  },
  {
   "cell_type": "code",
   "execution_count": 34,
   "id": "4b704bae-cea2-4f7c-9276-e979e0a1b47e",
   "metadata": {},
   "outputs": [
    {
     "data": {
      "text/plain": [
       "np.float64(100.0)"
      ]
     },
     "execution_count": 34,
     "metadata": {},
     "output_type": "execute_result"
    }
   ],
   "source": [
    "brojevi.max()"
   ]
  },
  {
   "cell_type": "code",
   "execution_count": 36,
   "id": "da3091a0-0b70-4593-9d95-071aab2758ba",
   "metadata": {},
   "outputs": [
    {
     "data": {
      "text/plain": [
       "0     Dunja\n",
       "1     Elena\n",
       "2     Vukan\n",
       "3    Marina\n",
       "4     Elena\n",
       "dtype: object"
      ]
     },
     "execution_count": 36,
     "metadata": {},
     "output_type": "execute_result"
    }
   ],
   "source": [
    "imena"
   ]
  },
  {
   "cell_type": "code",
   "execution_count": 35,
   "id": "e1e539c7-9971-4d2e-a991-6f2cb3fbde34",
   "metadata": {},
   "outputs": [
    {
     "data": {
      "text/plain": [
       "'Dunja'"
      ]
     },
     "execution_count": 35,
     "metadata": {},
     "output_type": "execute_result"
    }
   ],
   "source": [
    "imena.min()"
   ]
  },
  {
   "cell_type": "code",
   "execution_count": 37,
   "id": "760a02fa-c0b4-4467-b560-0457192b20c8",
   "metadata": {},
   "outputs": [
    {
     "data": {
      "text/plain": [
       "'Vukan'"
      ]
     },
     "execution_count": 37,
     "metadata": {},
     "output_type": "execute_result"
    }
   ],
   "source": [
    "imena.max()"
   ]
  },
  {
   "cell_type": "markdown",
   "id": "4ecbedd6-cdc6-40c6-9269-e903bf9354bb",
   "metadata": {},
   "source": [
    "## Prikaz pandas niza"
   ]
  },
  {
   "cell_type": "code",
   "execution_count": 43,
   "id": "d2f0e33c-e7ff-42b6-a44e-0c0e8091bbe6",
   "metadata": {},
   "outputs": [
    {
     "data": {
      "text/plain": [
       "0         1\n",
       "1         1\n",
       "2         2\n",
       "3         3\n",
       "4         5\n",
       "5         8\n",
       "6        13\n",
       "7        21\n",
       "8        34\n",
       "9        55\n",
       "10       89\n",
       "11      144\n",
       "12      233\n",
       "13      377\n",
       "14      610\n",
       "15      987\n",
       "16     1597\n",
       "17     2584\n",
       "18     4181\n",
       "19     6765\n",
       "20    10946\n",
       "dtype: int64"
      ]
     },
     "execution_count": 43,
     "metadata": {},
     "output_type": "execute_result"
    }
   ],
   "source": [
    "n=20\n",
    "fibonaci = [1,1]\n",
    "while len(fibonaci)<=n:\n",
    "    novi_clan = fibonaci[len(fibonaci)-1]+fibonaci[len(fibonaci)-2]\n",
    "    fibonaci.append(novi_clan)\n",
    "fibonaci_pandas= pd.Series(fibonaci)\n",
    "fibonaci_pandas"
   ]
  },
  {
   "cell_type": "code",
   "execution_count": 47,
   "id": "8a834747-fe0f-4de0-90a2-a2d6285dea92",
   "metadata": {},
   "outputs": [
    {
     "data": {
      "text/plain": [
       "0       1\n",
       "1       1\n",
       "2       2\n",
       "3       3\n",
       "4       5\n",
       "5       8\n",
       "6      13\n",
       "7      21\n",
       "8      34\n",
       "9      55\n",
       "10     89\n",
       "11    144\n",
       "12    233\n",
       "13    377\n",
       "14    610\n",
       "15    987\n",
       "dtype: int64"
      ]
     },
     "execution_count": 47,
     "metadata": {},
     "output_type": "execute_result"
    }
   ],
   "source": [
    "fibonaci_pandas.head(-5)"
   ]
  },
  {
   "cell_type": "code",
   "execution_count": 49,
   "id": "7ba73342-6316-428c-870d-c5b0dfb3428a",
   "metadata": {},
   "outputs": [
    {
     "data": {
      "text/plain": [
       "11      144\n",
       "12      233\n",
       "13      377\n",
       "14      610\n",
       "15      987\n",
       "16     1597\n",
       "17     2584\n",
       "18     4181\n",
       "19     6765\n",
       "20    10946\n",
       "dtype: int64"
      ]
     },
     "execution_count": 49,
     "metadata": {},
     "output_type": "execute_result"
    }
   ],
   "source": [
    "fibonaci_pandas.tail()"
   ]
  },
  {
   "cell_type": "markdown",
   "id": "ebc28811-766c-4678-8b40-09224b2e4bcf",
   "metadata": {},
   "source": [
    "## Ucitavanje pandas niz iz csv fajla"
   ]
  },
  {
   "cell_type": "code",
   "execution_count": 51,
   "id": "619d84ab-3f59-4e9d-8db5-ec922af3ecb9",
   "metadata": {},
   "outputs": [],
   "source": [
    "imena_i_broj_df = pd.read_csv(\"babyNames.csv\")"
   ]
  },
  {
   "cell_type": "code",
   "execution_count": 53,
   "id": "d8f6e2c2-289f-4a90-b005-a2775a607ac4",
   "metadata": {},
   "outputs": [
    {
     "data": {
      "text/html": [
       "<div>\n",
       "<style scoped>\n",
       "    .dataframe tbody tr th:only-of-type {\n",
       "        vertical-align: middle;\n",
       "    }\n",
       "\n",
       "    .dataframe tbody tr th {\n",
       "        vertical-align: top;\n",
       "    }\n",
       "\n",
       "    .dataframe thead th {\n",
       "        text-align: right;\n",
       "    }\n",
       "</style>\n",
       "<table border=\"1\" class=\"dataframe\">\n",
       "  <thead>\n",
       "    <tr style=\"text-align: right;\">\n",
       "      <th></th>\n",
       "      <th>index</th>\n",
       "      <th>YearOfBirth</th>\n",
       "      <th>Name</th>\n",
       "      <th>Sex</th>\n",
       "      <th>Number</th>\n",
       "    </tr>\n",
       "  </thead>\n",
       "  <tbody>\n",
       "    <tr>\n",
       "      <th>0</th>\n",
       "      <td>0</td>\n",
       "      <td>1880.0</td>\n",
       "      <td>Mary</td>\n",
       "      <td>F</td>\n",
       "      <td>7065.0</td>\n",
       "    </tr>\n",
       "    <tr>\n",
       "      <th>1</th>\n",
       "      <td>1</td>\n",
       "      <td>1880.0</td>\n",
       "      <td>Anna</td>\n",
       "      <td>F</td>\n",
       "      <td>2604.0</td>\n",
       "    </tr>\n",
       "    <tr>\n",
       "      <th>2</th>\n",
       "      <td>2</td>\n",
       "      <td>1880.0</td>\n",
       "      <td>Emma</td>\n",
       "      <td>F</td>\n",
       "      <td>2003.0</td>\n",
       "    </tr>\n",
       "    <tr>\n",
       "      <th>3</th>\n",
       "      <td>3</td>\n",
       "      <td>1880.0</td>\n",
       "      <td>Elizabeth</td>\n",
       "      <td>F</td>\n",
       "      <td>1939.0</td>\n",
       "    </tr>\n",
       "    <tr>\n",
       "      <th>4</th>\n",
       "      <td>4</td>\n",
       "      <td>1880.0</td>\n",
       "      <td>Minnie</td>\n",
       "      <td>F</td>\n",
       "      <td>1746.0</td>\n",
       "    </tr>\n",
       "  </tbody>\n",
       "</table>\n",
       "</div>"
      ],
      "text/plain": [
       "   index  YearOfBirth       Name Sex  Number\n",
       "0      0       1880.0       Mary   F  7065.0\n",
       "1      1       1880.0       Anna   F  2604.0\n",
       "2      2       1880.0       Emma   F  2003.0\n",
       "3      3       1880.0  Elizabeth   F  1939.0\n",
       "4      4       1880.0     Minnie   F  1746.0"
      ]
     },
     "execution_count": 53,
     "metadata": {},
     "output_type": "execute_result"
    }
   ],
   "source": [
    "imena_i_broj_df.head()"
   ]
  },
  {
   "cell_type": "code",
   "execution_count": 50,
   "id": "2979e13d-8f1d-4056-966a-15030f2e65c7",
   "metadata": {},
   "outputs": [
    {
     "data": {
      "text/plain": [
       "Name\n",
       "Mary         7065.0\n",
       "Anna         2604.0\n",
       "Emma         2003.0\n",
       "Elizabeth    1939.0\n",
       "Minnie       1746.0\n",
       "              ...  \n",
       "Dallas        411.0\n",
       "Owen          411.0\n",
       "Steven        409.0\n",
       "Wilfred       409.0\n",
       "NaN             NaN\n",
       "Name: Number, Length: 44146, dtype: float64"
      ]
     },
     "execution_count": 50,
     "metadata": {},
     "output_type": "execute_result"
    }
   ],
   "source": [
    "imena_i_broj = pd.read_csv(\"babyNames.csv\", usecols = ['Name','Number'], index_col = 'Name').squeeze(\"columns\")\n",
    "imena_i_broj"
   ]
  },
  {
   "cell_type": "markdown",
   "id": "d634628a-cd7b-41b0-8f4c-716169d9e793",
   "metadata": {},
   "source": [
    "## In"
   ]
  },
  {
   "cell_type": "code",
   "execution_count": 54,
   "id": "72609c77-2754-4d1a-a35e-bf072455fcd0",
   "metadata": {},
   "outputs": [
    {
     "data": {
      "text/plain": [
       "True"
      ]
     },
     "execution_count": 54,
     "metadata": {},
     "output_type": "execute_result"
    }
   ],
   "source": [
    "'Mary' in imena_i_broj"
   ]
  },
  {
   "cell_type": "code",
   "execution_count": 73,
   "id": "99a1566d-65d0-4cdd-8a0d-b0b9fb421aeb",
   "metadata": {},
   "outputs": [
    {
     "data": {
      "text/plain": [
       "False"
      ]
     },
     "execution_count": 73,
     "metadata": {},
     "output_type": "execute_result"
    }
   ],
   "source": [
    "'Ivana' in imena_i_broj"
   ]
  },
  {
   "cell_type": "code",
   "execution_count": 63,
   "id": "39b3235b-3132-481d-a074-f487534b7640",
   "metadata": {},
   "outputs": [
    {
     "data": {
      "text/plain": [
       "True"
      ]
     },
     "execution_count": 63,
     "metadata": {},
     "output_type": "execute_result"
    }
   ],
   "source": [
    "20 in fibonaci_pandas"
   ]
  },
  {
   "cell_type": "code",
   "execution_count": 58,
   "id": "9f8d5411-a96f-437e-8c6a-40322aae5d68",
   "metadata": {},
   "outputs": [
    {
     "data": {
      "text/plain": [
       "False"
      ]
     },
     "execution_count": 58,
     "metadata": {},
     "output_type": "execute_result"
    }
   ],
   "source": [
    "-1 in fibonaci_pandas"
   ]
  },
  {
   "cell_type": "code",
   "execution_count": 59,
   "id": "f273da70-df5a-49e2-9e3a-a966015555ed",
   "metadata": {},
   "outputs": [
    {
     "data": {
      "text/plain": [
       "True"
      ]
     },
     "execution_count": 59,
     "metadata": {},
     "output_type": "execute_result"
    }
   ],
   "source": [
    "7065 in imena_i_broj.values"
   ]
  },
  {
   "cell_type": "code",
   "execution_count": 68,
   "id": "1fe62e52-567a-4c48-b03b-b62df9c93a8b",
   "metadata": {},
   "outputs": [
    {
     "data": {
      "text/plain": [
       "True"
      ]
     },
     "execution_count": 68,
     "metadata": {},
     "output_type": "execute_result"
    }
   ],
   "source": [
    "13 in fibonaci_pandas.index"
   ]
  },
  {
   "cell_type": "markdown",
   "id": "b7e9c6a2-8c81-4934-805e-88b04b1478d0",
   "metadata": {},
   "source": [
    "## Loc, Iloc"
   ]
  },
  {
   "cell_type": "code",
   "execution_count": 69,
   "id": "186a7b12-ffc3-4718-88b7-bc93d1f2d7b5",
   "metadata": {},
   "outputs": [
    {
     "data": {
      "text/plain": [
       "np.float64(1578.0)"
      ]
     },
     "execution_count": 69,
     "metadata": {},
     "output_type": "execute_result"
    }
   ],
   "source": [
    "imena_i_broj.iloc[5]"
   ]
  },
  {
   "cell_type": "code",
   "execution_count": 72,
   "id": "b944cc5b-0522-4696-bc25-3faa60189820",
   "metadata": {},
   "outputs": [
    {
     "data": {
      "text/plain": [
       "Name\n",
       "Mary     7065.0\n",
       "Mary     6919.0\n",
       "Mary     8148.0\n",
       "Mary     8012.0\n",
       "Mary     9217.0\n",
       "         ...   \n",
       "Mary    55493.0\n",
       "Mary      316.0\n",
       "Mary    56921.0\n",
       "Mary      303.0\n",
       "Mary    55072.0\n",
       "Name: Number, Length: 79, dtype: float64"
      ]
     },
     "execution_count": 72,
     "metadata": {},
     "output_type": "execute_result"
    }
   ],
   "source": [
    "imena_i_broj.loc['Mary']"
   ]
  },
  {
   "cell_type": "code",
   "execution_count": 74,
   "id": "36815251-d13e-415f-9388-443a130090ef",
   "metadata": {},
   "outputs": [
    {
     "data": {
      "text/plain": [
       "np.int64(8)"
      ]
     },
     "execution_count": 74,
     "metadata": {},
     "output_type": "execute_result"
    }
   ],
   "source": [
    "fibonaci_pandas.iloc[5]"
   ]
  },
  {
   "cell_type": "code",
   "execution_count": 75,
   "id": "0eee792b-2a5a-4f90-bfb6-815fb3e434f4",
   "metadata": {},
   "outputs": [
    {
     "data": {
      "text/plain": [
       "np.int64(8)"
      ]
     },
     "execution_count": 75,
     "metadata": {},
     "output_type": "execute_result"
    }
   ],
   "source": [
    "fibonaci_pandas.loc[5]"
   ]
  },
  {
   "cell_type": "code",
   "execution_count": 76,
   "id": "c34a5f7a-9421-4f48-abac-c5cde6be9532",
   "metadata": {},
   "outputs": [
    {
     "data": {
      "text/plain": [
       "Name\n",
       "Mary    7065.0\n",
       "Mary    6919.0\n",
       "Mary    8148.0\n",
       "Mary    8012.0\n",
       "Mary    9217.0\n",
       "         ...  \n",
       "Nick     511.0\n",
       "Nick     490.0\n",
       "Nick     499.0\n",
       "Nick     465.0\n",
       "Nick     456.0\n",
       "Name: Number, Length: 105, dtype: float64"
      ]
     },
     "execution_count": 76,
     "metadata": {},
     "output_type": "execute_result"
    }
   ],
   "source": [
    "imena_i_broj.loc[['Mary','Nick']]"
   ]
  },
  {
   "cell_type": "markdown",
   "id": "c4ef24cd-675d-4779-88d1-99d8118ec34b",
   "metadata": {},
   "source": [
    "## Ugradjene python funkcije"
   ]
  },
  {
   "cell_type": "code",
   "execution_count": 77,
   "id": "69cae2e2-5a9c-439e-8ae2-bab492fe7467",
   "metadata": {},
   "outputs": [
    {
     "data": {
      "text/plain": [
       "44146"
      ]
     },
     "execution_count": 77,
     "metadata": {},
     "output_type": "execute_result"
    }
   ],
   "source": [
    "len(imena_i_broj)"
   ]
  },
  {
   "cell_type": "code",
   "execution_count": 78,
   "id": "70f7aaff-3f25-4b83-8d1c-cbcc33f64d00",
   "metadata": {},
   "outputs": [
    {
     "data": {
      "text/plain": [
       "(44146,)"
      ]
     },
     "execution_count": 78,
     "metadata": {},
     "output_type": "execute_result"
    }
   ],
   "source": [
    "imena_i_broj.shape"
   ]
  },
  {
   "cell_type": "code",
   "execution_count": 79,
   "id": "a92bc50a-8fc1-4c97-960c-cb71f16d14bc",
   "metadata": {},
   "outputs": [
    {
     "data": {
      "text/plain": [
       "44146"
      ]
     },
     "execution_count": 79,
     "metadata": {},
     "output_type": "execute_result"
    }
   ],
   "source": [
    "imena_i_broj.size"
   ]
  },
  {
   "cell_type": "code",
   "execution_count": 80,
   "id": "5c4f0a8a-4219-4aca-a339-e84a3fff4e19",
   "metadata": {},
   "outputs": [
    {
     "data": {
      "text/plain": [
       "pandas.core.series.Series"
      ]
     },
     "execution_count": 80,
     "metadata": {},
     "output_type": "execute_result"
    }
   ],
   "source": [
    "type(imena_i_broj)"
   ]
  },
  {
   "cell_type": "code",
   "execution_count": 81,
   "id": "9e44b61b-a3ee-4e09-8cfd-94e40fcbd9a9",
   "metadata": {},
   "outputs": [
    {
     "data": {
      "text/plain": [
       "100.0"
      ]
     },
     "execution_count": 81,
     "metadata": {},
     "output_type": "execute_result"
    }
   ],
   "source": [
    "min(imena_i_broj)"
   ]
  },
  {
   "cell_type": "code",
   "execution_count": 86,
   "id": "fd8c9191-9f28-4cb9-bdda-a54b97ce8de4",
   "metadata": {},
   "outputs": [
    {
     "data": {
      "text/plain": [
       "Name\n",
       "Mary        73983.0\n",
       "Mary        73532.0\n",
       "Mary        72170.0\n",
       "Mary        71633.0\n",
       "Mary        70975.0\n",
       "             ...   \n",
       "Freddie       100.0\n",
       "Sterling      100.0\n",
       "Royal         100.0\n",
       "Gerald        100.0\n",
       "NaN             NaN\n",
       "Name: Number, Length: 44146, dtype: float64"
      ]
     },
     "execution_count": 86,
     "metadata": {},
     "output_type": "execute_result"
    }
   ],
   "source": [
    "imena_i_broj.sort_values(ascending = False)"
   ]
  },
  {
   "cell_type": "code",
   "execution_count": 88,
   "id": "51655d53-478c-4553-9322-449a57faef5d",
   "metadata": {},
   "outputs": [
    {
     "data": {
      "text/plain": [
       "Name\n",
       "Zula    116.0\n",
       "Zula    102.0\n",
       "Zula    105.0\n",
       "Zula    107.0\n",
       "Zula    127.0\n",
       "Zula    102.0\n",
       "Zula    105.0\n",
       "Zora    114.0\n",
       "Zora    117.0\n",
       "Zora    134.0\n",
       "Name: Number, dtype: float64"
      ]
     },
     "execution_count": 88,
     "metadata": {},
     "output_type": "execute_result"
    }
   ],
   "source": [
    "imena_i_broj.sort_index(ascending = False).head(10)"
   ]
  },
  {
   "cell_type": "markdown",
   "id": "5383633a-c15a-4ecb-ab65-0a732bdc63e8",
   "metadata": {},
   "source": [
    "## Promena vrednosti pandas listi"
   ]
  },
  {
   "cell_type": "code",
   "execution_count": 104,
   "id": "6c3dce9d-a3a3-4b04-ae9d-d97cd2012c6b",
   "metadata": {},
   "outputs": [],
   "source": [
    "zoo = pd.Series(['Slon','Zirafa','Zebra','Komarac'])"
   ]
  },
  {
   "cell_type": "code",
   "execution_count": 105,
   "id": "10ae8e4e-12bf-4b68-a8fb-4aa6bfe3cdf3",
   "metadata": {},
   "outputs": [],
   "source": [
    "zoo.iloc[3] = 'Vuk'"
   ]
  },
  {
   "cell_type": "code",
   "execution_count": 106,
   "id": "aa983be3-58e6-4657-92ea-c0bc77502cfb",
   "metadata": {},
   "outputs": [
    {
     "data": {
      "text/plain": [
       "0      Slon\n",
       "1    Zirafa\n",
       "2     Zebra\n",
       "3       Vuk\n",
       "dtype: object"
      ]
     },
     "execution_count": 106,
     "metadata": {},
     "output_type": "execute_result"
    }
   ],
   "source": [
    "zoo.head()"
   ]
  },
  {
   "cell_type": "code",
   "execution_count": 107,
   "id": "a42b8c17-2960-42fd-87d1-6b749b613339",
   "metadata": {},
   "outputs": [],
   "source": [
    "imena_i_broj.loc['Zula'] = 1"
   ]
  },
  {
   "cell_type": "code",
   "execution_count": 108,
   "id": "de9f0393-b6b3-4e06-9948-b5a485f1fcc0",
   "metadata": {},
   "outputs": [
    {
     "data": {
      "text/plain": [
       "Name\n",
       "Zula      1.0\n",
       "Zula      1.0\n",
       "Zula      1.0\n",
       "Zula      1.0\n",
       "Zula      1.0\n",
       "Zula      1.0\n",
       "Zula      1.0\n",
       "Zora    114.0\n",
       "Zora    117.0\n",
       "Zora    134.0\n",
       "Name: Number, dtype: float64"
      ]
     },
     "execution_count": 108,
     "metadata": {},
     "output_type": "execute_result"
    }
   ],
   "source": [
    "imena_i_broj.sort_index(ascending = False).head(10)"
   ]
  },
  {
   "cell_type": "markdown",
   "id": "374acbc8-067a-41b0-8a24-8fc58060db44",
   "metadata": {},
   "source": [
    "## Kopiranje pandas nizova"
   ]
  },
  {
   "cell_type": "code",
   "execution_count": 109,
   "id": "4e2ac89d-a8fd-4aa4-bbbf-3440718ac8a9",
   "metadata": {},
   "outputs": [],
   "source": [
    "copy_of_zoo = zoo.copy()"
   ]
  },
  {
   "cell_type": "code",
   "execution_count": 110,
   "id": "fe175159-5f56-48ff-a794-eb66ab945bc4",
   "metadata": {},
   "outputs": [
    {
     "data": {
      "text/plain": [
       "0      Slon\n",
       "1    Zirafa\n",
       "2     Zebra\n",
       "3       Vuk\n",
       "dtype: object"
      ]
     },
     "execution_count": 110,
     "metadata": {},
     "output_type": "execute_result"
    }
   ],
   "source": [
    "zoo.head()"
   ]
  },
  {
   "cell_type": "code",
   "execution_count": 111,
   "id": "e917aab4-19fa-4e63-a9a8-6350b27a61f2",
   "metadata": {},
   "outputs": [
    {
     "data": {
      "text/plain": [
       "0      Slon\n",
       "1    Zirafa\n",
       "2     Zebra\n",
       "3       Vuk\n",
       "dtype: object"
      ]
     },
     "execution_count": 111,
     "metadata": {},
     "output_type": "execute_result"
    }
   ],
   "source": [
    "copy_of_zoo.head()"
   ]
  },
  {
   "cell_type": "markdown",
   "id": "e46792df-5f10-4165-ad40-ab8e13a53d4a",
   "metadata": {},
   "source": [
    "## Dodavanje novih clanova pandas nizova"
   ]
  },
  {
   "cell_type": "code",
   "execution_count": 112,
   "id": "d9379470-422d-44c5-97f8-a9c9976600a3",
   "metadata": {},
   "outputs": [],
   "source": [
    "copy_of_zoo[4] = 'Paun'"
   ]
  },
  {
   "cell_type": "code",
   "execution_count": 113,
   "id": "3cb9a7b5-3b47-485a-bcac-4f5de13ff0ef",
   "metadata": {},
   "outputs": [
    {
     "data": {
      "text/plain": [
       "0      Slon\n",
       "1    Zirafa\n",
       "2     Zebra\n",
       "3       Vuk\n",
       "4      Paun\n",
       "dtype: object"
      ]
     },
     "execution_count": 113,
     "metadata": {},
     "output_type": "execute_result"
    }
   ],
   "source": [
    "copy_of_zoo.head()"
   ]
  },
  {
   "cell_type": "code",
   "execution_count": 114,
   "id": "a97fe78f-2532-4eac-a3db-066f1297b03d",
   "metadata": {},
   "outputs": [],
   "source": [
    "copy_of_zoo[copy_of_zoo.index.max()+1] = 'Koala'"
   ]
  },
  {
   "cell_type": "code",
   "execution_count": 117,
   "id": "ae9e36c5-1731-4ea5-9c3c-416114f98272",
   "metadata": {},
   "outputs": [
    {
     "data": {
      "text/plain": [
       "0      Slon\n",
       "1    Zirafa\n",
       "2     Zebra\n",
       "3       Vuk\n",
       "4      Paun\n",
       "5     Koala\n",
       "dtype: object"
      ]
     },
     "execution_count": 117,
     "metadata": {},
     "output_type": "execute_result"
    }
   ],
   "source": [
    "copy_of_zoo.head(6)"
   ]
  },
  {
   "cell_type": "code",
   "execution_count": null,
   "id": "06fa827a-5f7e-436a-8084-1de8af81538c",
   "metadata": {},
   "outputs": [],
   "source": []
  }
 ],
 "metadata": {
  "kernelspec": {
   "display_name": "Python 3 (ipykernel)",
   "language": "python",
   "name": "python3"
  },
  "language_info": {
   "codemirror_mode": {
    "name": "ipython",
    "version": 3
   },
   "file_extension": ".py",
   "mimetype": "text/x-python",
   "name": "python",
   "nbconvert_exporter": "python",
   "pygments_lexer": "ipython3",
   "version": "3.13.0"
  }
 },
 "nbformat": 4,
 "nbformat_minor": 5
}
